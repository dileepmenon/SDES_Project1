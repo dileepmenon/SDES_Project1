{
 "cells": [
  {
   "cell_type": "markdown",
   "metadata": {},
   "source": [
    "## Analysis of a mass spring damper system"
   ]
  },
  {
   "cell_type": "markdown",
   "metadata": {
    "collapsed": false
   },
   "source": [
    "![](http://blogs.mathworks.com/images/loren/2013/MassSpringDamper.png)\n",
    "<center>**Fig 1.** Schematic of spring mass system</center>\n",
    "<br />\n",
    "<br />\n",
    "\n",
    "Consider a spring mass damper system of mass(m), spring constant(k) and damping factor(c) as shown in Fig 1.\n",
    "\n",
    "From Newtons Law,\n",
    "$$ \\Sigma f = ma$$<br />\n",
    "\n",
    "$$-kx-c\\dfrac{dx}{dt} = m\\dfrac{d^2x}{dt^2}$$\n",
    "\n",
    "rearranging\n",
    "\n",
    "$$m\\dfrac{d^2x}{dt^2} + c\\dfrac{dx}{dt} + kx = 0$$\n",
    "\n",
    "dividing by m\n",
    "\n",
    "$$\\dfrac{d^2x}{dt^2} + \\dfrac{c}{m}\\dfrac{dx}{dt} + \\dfrac{k}{m}x = 0$$ \n",
    "\n",
    "Let $\\omega_o = \\sqrt{\\frac{k}{m}} $, be the natural frequency of the system and $\\zeta = \\frac{c}{2\\sqrt{km}}$, be the damping ratio, we get\n",
    "\n",
    "$$\\dfrac{d^2x}{dt^2} + 2\\omega_o \\zeta \\dfrac{dx}{dt} + \\omega_o^2 x = 0$$ \n"
   ]
  },
  {
   "cell_type": "code",
   "execution_count": 114,
   "metadata": {
    "collapsed": false,
    "scrolled": true
   },
   "outputs": [],
   "source": [
    "import numpy as np\n",
    "import matplotlib.pyplot as plt\n",
    "from scipy.integrate import odeint\n",
    "sqrt = np.sqrt\n",
    "\n",
    "\n",
    "#System constants\n",
    "k = 10.0 #spring constant in kg/s^2\n",
    "m = 10.0 #mass in kg\n",
    "c = 1.0  #damping factor in kg/s \n",
    "\n",
    "#Time discretisation\n",
    "t = np.arange(0.0, 100.1, 0.1)\n",
    "\n",
    "def mass_spring_damper(state, t):\n",
    "    #Stores position and velocity of the system at each timestep \n",
    "    x = state[0]\n",
    "    velocity = state[1]\n",
    "    #Constants\n",
    "    omega = sqrt(k/m)  #natural frequency of system \n",
    "    zeta = c/(2.0*sqrt(k*m))  #damping ratio\n",
    "    #Computes and stores acceleration of the system at each timestep \n",
    "    acceleration = -2*omega*zeta*velocity - (omega**2)*x\n",
    "    return [velocity, acceleration]\n",
    "\n",
    "\n",
    "def state_of_system():\n",
    "    #Initial conditions of position and velocity of the system\n",
    "    state0 = [0.0, 1.0]\n",
    "    state = odeint(mass_spring_damper, state0, t)\n",
    "    return state\n",
    "\n",
    "\n",
    "def plot_state(state):\n",
    "    fig = plt.figure(1)\n",
    "    plt.plot(t, state[:,0], label='Position (m)')\n",
    "    plt.plot(t, state[:,1], label='Velocity (m/s)')\n",
    "    plt.xlabel('time (s)', fontsize=13)\n",
    "    plt.ylabel('State', fontsize=13)\n",
    "    plt.xticks(np.arange(0,110,10))\n",
    "    plt.yticks(np.arange(-1.0,1.5,0.5))\n",
    "    plt.title('Plot of position and velocity of mass-spring damper system versus time', y=1.04, fontsize=14)\n",
    "    plt.legend()\n",
    "    plt.grid()\n",
    "    plt.show()\n"
   ]
  },
  {
   "cell_type": "code",
   "execution_count": 115,
   "metadata": {
    "collapsed": true
   },
   "outputs": [],
   "source": []
  }
 ],
 "metadata": {
  "kernelspec": {
   "display_name": "Python 3",
   "language": "python",
   "name": "python3"
  },
  "language_info": {
   "codemirror_mode": {
    "name": "ipython",
    "version": 3
   },
   "file_extension": ".py",
   "mimetype": "text/x-python",
   "name": "python",
   "nbconvert_exporter": "python",
   "pygments_lexer": "ipython3",
   "version": "3.5.1"
  }
 },
 "nbformat": 4,
 "nbformat_minor": 0
}
