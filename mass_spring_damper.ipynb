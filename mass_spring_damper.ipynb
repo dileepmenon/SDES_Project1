{
 "cells": [
  {
   "cell_type": "code",
   "execution_count": 49,
   "metadata": {
    "collapsed": false,
    "scrolled": true
   },
   "outputs": [],
   "source": [
    "import numpy as np\n",
    "import matplotlib.pyplot as plt\n",
    "from scipy.integrate import odeint\n",
    "sqrt = np.sqrt\n",
    "\n",
    "#System constants\n",
    "k = 10.0 #spring constant\n",
    "m = 10.0 #mass \n",
    "c = 1.0  #damping factor \n",
    "\n",
    "def mass_spring_damper(state, t):\n",
    "    #Stores position and velocity of the system at each timestep \n",
    "    x = state[0]\n",
    "    velocity = state[1]\n",
    "    #Constants\n",
    "    omega = sqrt(k/m)  #natural frequency of system \n",
    "    zeta = c/(2.0*sqrt(k*m))  #damping ratio\n",
    "    #Computes and stores acceleration of the system at each timestep \n",
    "    acceleration = -2*omega*zeta*velocity - (omega**2)*x\n",
    "    return [velocity, acceleration]\n",
    "\n",
    "def state_of_system():\n",
    "    #Initial conditions of position and velocity of the system\n",
    "    state0 = [0.0, 1.0]\n",
    "    #Time discretisation\n",
    "    t = np.arange(0.0, 5.0, 0.1)\n",
    "    state = odeint(mass_spring_damper, state0, t)\n",
    "    return state"
   ]
  },
  {
   "cell_type": "code",
   "execution_count": null,
   "metadata": {
    "collapsed": false
   },
   "outputs": [],
   "source": []
  }
 ],
 "metadata": {
  "kernelspec": {
   "display_name": "Python 3",
   "language": "python",
   "name": "python3"
  },
  "language_info": {
   "codemirror_mode": {
    "name": "ipython",
    "version": 3
   },
   "file_extension": ".py",
   "mimetype": "text/x-python",
   "name": "python",
   "nbconvert_exporter": "python",
   "pygments_lexer": "ipython3",
   "version": "3.5.1"
  }
 },
 "nbformat": 4,
 "nbformat_minor": 0
}
